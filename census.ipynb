{
 "cells": [
  {
   "cell_type": "code",
   "execution_count": 1,
   "metadata": {
    "collapsed": true
   },
   "outputs": [],
   "source": [
    "import pandas as pd\n",
    "import numpy as np"
   ]
  },
  {
   "cell_type": "code",
   "execution_count": 15,
   "metadata": {
    "collapsed": false
   },
   "outputs": [],
   "source": [
    "#loading up data frame and subsetting it to Texas and variable of interests\n",
    "dfb = pd.read_csv('/home/minh/portfolio/census/pums/ss13pusb.csv')\n",
    "data = dfb.loc[dfb['ST'] == 48, ['ST','WGP','RAC1P', \"JWMNP\"]]\n",
    "data = data.rename(columns = {\n",
    "    'ST': 'state',\n",
    "    'WGP': 'wage',\n",
    "    'RAC1P': 'race',\n",
    "    'JWMNP': 'CommuteT'\n",
    "})"
   ]
  },
  {
   "cell_type": "code",
   "execution_count": 16,
   "metadata": {
    "collapsed": false
   },
   "outputs": [
    {
     "data": {
      "text/plain": [
       "White                         196657\n",
       "Black                          25654\n",
       "Other Race                     13361\n",
       "Asian/Pacific Islander         10206\n",
       "Two or More Races               6362\n",
       "American or Alaskan Native      1359\n",
       "dtype: int64"
      ]
     },
     "execution_count": 16,
     "metadata": {},
     "output_type": "execute_result"
    }
   ],
   "source": [
    "#renaming the numeric code into strings\n",
    "data['race'] = data['race'].astype('category')\n",
    "race = {\"White\": [1], \"Black\": [2], \"American or Alaskan Native\": [3,4,5], \"Asian/Pacific Islander\": [6,7],\n",
    "    \"Other Race\": [8], \"Two or More Races\": [9]}\n",
    "race2 = {v: k for k,vv in race.items() for v in vv}\n",
    "data['race'] = data['race'].map(race2).astype(\"category\", categories = set(race2.values()))\n",
    "data['race'].value_counts()"
   ]
  }
 ],
 "metadata": {
  "kernelspec": {
   "display_name": "Python 2",
   "language": "python",
   "name": "python2"
  },
  "language_info": {
   "codemirror_mode": {
    "name": "ipython",
    "version": 2
   },
   "file_extension": ".py",
   "mimetype": "text/x-python",
   "name": "python",
   "nbconvert_exporter": "python",
   "pygments_lexer": "ipython2",
   "version": "2.7.9"
  }
 },
 "nbformat": 4,
 "nbformat_minor": 0
}
