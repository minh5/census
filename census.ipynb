{
 "cells": [
  {
   "cell_type": "code",
   "execution_count": 2,
   "metadata": {
    "collapsed": true
   },
   "outputs": [],
   "source": [
    "import pandas as pd\n",
    "import numpy as np\n",
    "import matplotlib.pyplot as plt\n",
    "from scipy.stats.stats import pearsonr\n",
    "from scipy.stats import gaussian_kde"
   ]
  },
  {
   "cell_type": "code",
   "execution_count": 34,
   "metadata": {
    "collapsed": false
   },
   "outputs": [],
   "source": [
    "#loading up data frame and subsetting it to Texas and variable of interests\n",
    "dfb = pd.read_csv('/home/minh/portfolio/census/pums/ss13pusb.csv')\n",
    "data = dfb.loc[dfb['ST'] == 48, ['ST','WAGP','RAC1P', \"JWMNP\"]]\n",
    "\n",
    "#renaming columns\n",
    "data = data.rename(columns = {\n",
    "    'ST': 'state',\n",
    "    'WAGP': 'wage',\n",
    "    'RAC1P': 'race',\n",
    "    'JWMNP': 'commute'\n",
    "})\n",
    "#save file \n",
    "data.to_csv('/home/minh/portfolio/census/data.csv') "
   ]
  },
  {
   "cell_type": "code",
   "execution_count": 3,
   "metadata": {
    "collapsed": false
   },
   "outputs": [],
   "source": [
    "#use this file for subsequent analysis\n",
    "data = pd.read_csv('/home/minh/portfolio/census/data.csv')"
   ]
  },
  {
   "cell_type": "code",
   "execution_count": 4,
   "metadata": {
    "collapsed": false
   },
   "outputs": [],
   "source": [
    "#preprocessing and exploratory analysis\n",
    "\n",
    "#removing missing data\n",
    "data = data[np.isfinite(data['commute'])] \n",
    "\n",
    "#renaming the numeric code into strings\n",
    "data['race'] = data['race'].astype('category')\n",
    "race = {\"White\": [1], \"Black\": [2], \"American or Alaskan Native\": [3,4,5], \"Asian/Pacific Islander\": [6,7],\n",
    "    \"Other Race\": [8], \"Two or More Races\": [9]}\n",
    "race2 = {v: k for k,vv in race.items() for v in vv}\n",
    "data['race'] = data['race'].map(race2).astype(\"category\", categories = set(race2.values()))\n",
    "\n",
    "#scaling data\n",
    "data['commute'].describe()\n",
    "data['wage'].describe()\n",
    "data['wage_scaled'] = (data['wage'] - data['wage'].mean())/data['wage'].std()\n",
    "data['wage_scaled'].describe()\n",
    "data_scaled = data[(data['wage_scaled'] < 3) & (data['wage_scaled'] > -3)]"
   ]
  },
  {
   "cell_type": "code",
   "execution_count": 5,
   "metadata": {
    "collapsed": false
   },
   "outputs": [
    {
     "data": {
      "text/plain": [
       "count    104682.000000\n",
       "mean      39935.226744\n",
       "std       36003.812477\n",
       "min           0.000000\n",
       "25%       14000.000000\n",
       "50%       30000.000000\n",
       "75%       55000.000000\n",
       "max      211000.000000\n",
       "Name: wage, dtype: float64"
      ]
     },
     "execution_count": 5,
     "metadata": {},
     "output_type": "execute_result"
    }
   ],
   "source": [
    "data_scaled['wage'].describe()"
   ]
  },
  {
   "cell_type": "code",
   "execution_count": 75,
   "metadata": {
    "collapsed": false
   },
   "outputs": [],
   "source": [
    "#geting histogram of incomes\n",
    "plt.hist(data['wage'], 50, facecolor='green')\n",
    "plt.xlabel('Wage/Income in the last 12 months')\n",
    "plt.ylabel('Number of People')\n",
    "plt.title('Histogram of Income')\n",
    "plt.axis([data['wage'].min(), data['wage'].max(), 0, 200000)\n",
    "plt.show()\n",
    "\n",
    "#plotting wages and commute time\n",
    "plt.plot(data_scaled['wage'], data_scaled['commute'], 'ro', alpha = 0.2)\n",
    "plt.xlabel('Wage/Income in the Last 12 Months')\n",
    "plt.ylabel('Commute Times (in minutes)')\n",
    "plt.show()\n",
    "\n",
    "# different view of plotting, looking at the density of where the data converges\n",
    "xy = np.vstack([data_scaled['wage'], data_scaled['commute']])\n",
    "z = gaussian_kde(xy)(xy)\n",
    "fig, ax = plt.subplots()\n",
    "ax.scatter(data_scaled['wage'], data_scaled['commute'], c=z, edgecolor='')\n",
    "plt.show()"
   ]
  },
  {
   "cell_type": "code",
   "execution_count": 31,
   "metadata": {
    "collapsed": false
   },
   "outputs": [
    {
     "ename": "SyntaxError",
     "evalue": "invalid syntax (<ipython-input-31-f8e10130d1be>, line 5)",
     "output_type": "error",
     "traceback": [
      "\u001b[1;36m  File \u001b[1;32m\"<ipython-input-31-f8e10130d1be>\"\u001b[1;36m, line \u001b[1;32m5\u001b[0m\n\u001b[1;33m    plt.axis([data['wage'].min(), data['wage'].max(), 0, 200000)\u001b[0m\n\u001b[1;37m                                                               ^\u001b[0m\n\u001b[1;31mSyntaxError\u001b[0m\u001b[1;31m:\u001b[0m invalid syntax\n"
     ]
    }
   ],
   "source": [
    "if (data['wage'] < 9225):\n",
    "    data['incomeGroup'] = \"Low\""
   ]
  },
  {
   "cell_type": "code",
   "execution_count": 35,
   "metadata": {
    "collapsed": false
   },
   "outputs": [
    {
     "data": {
      "text/plain": [
       "low          41768\n",
       "middle       35011\n",
       "lowest       12839\n",
       "high          8752\n",
       "very high      615\n",
       "dtype: int64"
      ]
     },
     "execution_count": 35,
     "metadata": {},
     "output_type": "execute_result"
    }
   ],
   "source": [
    "#breaking income into US tax brackets\n",
    "data['income_group'] = pd.cut(data['wage'], bins = [0,9225,37450,90750,189300,411500],\n",
    "                             labels = ['lowest', 'low', 'middle','high','very high'])\n",
    "data['income_group'].value_counts()"
   ]
  },
  {
   "cell_type": "code",
   "execution_count": null,
   "metadata": {
    "collapsed": true
   },
   "outputs": [],
   "source": []
  }
 ],
 "metadata": {
  "kernelspec": {
   "display_name": "Python 2",
   "language": "python",
   "name": "python2"
  },
  "language_info": {
   "codemirror_mode": {
    "name": "ipython",
    "version": 2
   },
   "file_extension": ".py",
   "mimetype": "text/x-python",
   "name": "python",
   "nbconvert_exporter": "python",
   "pygments_lexer": "ipython2",
   "version": "2.7.9"
  }
 },
 "nbformat": 4,
 "nbformat_minor": 0
}
