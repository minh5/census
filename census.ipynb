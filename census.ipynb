{
 "cells": [
  {
   "cell_type": "code",
   "execution_count": 39,
   "metadata": {
    "collapsed": true
   },
   "outputs": [],
   "source": [
    "import pandas as pd\n",
    "import numpy as np\n",
    "import matplotlib.pyplot as plt\n",
    "from scipy.stats.stats import pearsonr\n",
    "from scipy.stats import gaussian_kde"
   ]
  },
  {
   "cell_type": "code",
   "execution_count": 34,
   "metadata": {
    "collapsed": false
   },
   "outputs": [],
   "source": [
    "#loading up data frame and subsetting it to Texas and variable of interests\n",
    "dfb = pd.read_csv('/home/minh/portfolio/census/pums/ss13pusb.csv')\n",
    "data = dfb.loc[dfb['ST'] == 48, ['ST','WAGP','RAC1P', \"JWMNP\"]]\n",
    "\n",
    "#renaming columns\n",
    "data = data.rename(columns = {\n",
    "    'ST': 'state',\n",
    "    'WAGP': 'wage',\n",
    "    'RAC1P': 'race',\n",
    "    'JWMNP': 'commute'\n",
    "})\n",
    "#save file \n",
    "data.to_csv('/home/minh/portfolio/census/data.csv') "
   ]
  },
  {
   "cell_type": "code",
   "execution_count": 72,
   "metadata": {
    "collapsed": true
   },
   "outputs": [],
   "source": [
    "#use this file for subsequent analysis\n",
    "data = pd.read_csv('/home/minh/portfolio/census/data.csv')"
   ]
  },
  {
   "cell_type": "code",
   "execution_count": 73,
   "metadata": {
    "collapsed": false
   },
   "outputs": [],
   "source": [
    "#preprocessing and exploratory analysis\n",
    "\n",
    "#removing missing data\n",
    "data = data[np.isfinite(data['commute'])] \n",
    "\n",
    "#renaming the numeric code into strings\n",
    "data['race'] = data['race'].astype('category')\n",
    "race = {\"White\": [1], \"Black\": [2], \"American or Alaskan Native\": [3,4,5], \"Asian/Pacific Islander\": [6,7],\n",
    "    \"Other Race\": [8], \"Two or More Races\": [9]}\n",
    "race2 = {v: k for k,vv in race.items() for v in vv}\n",
    "data['race'] = data['race'].map(race2).astype(\"category\", categories = set(race2.values()))\n",
    "\n",
    "#scaling data\n",
    "data['commute'].describe()\n",
    "data['wage'].describe()\n",
    "data['wage_scaled'] = (data['wage'] - data['wage'].mean())/data['wage'].std()\n",
    "data['wage_scaled'].describe()\n",
    "data = data[(data['wage_scaled'] < 3) & (data['wage_scaled'] > -3)]"
   ]
  },
  {
   "cell_type": "code",
   "execution_count": 74,
   "metadata": {
    "collapsed": false
   },
   "outputs": [
    {
     "data": {
      "text/plain": [
       "count    104682.000000\n",
       "mean      39935.226744\n",
       "std       36003.812477\n",
       "min           0.000000\n",
       "25%       14000.000000\n",
       "50%       30000.000000\n",
       "75%       55000.000000\n",
       "max      211000.000000\n",
       "Name: wage, dtype: float64"
      ]
     },
     "execution_count": 74,
     "metadata": {},
     "output_type": "execute_result"
    }
   ],
   "source": [
    "data['wage'].describe()"
   ]
  },
  {
   "cell_type": "code",
   "execution_count": 75,
   "metadata": {
    "collapsed": false
   },
   "outputs": [],
   "source": [
    "#plotting wages and commute time\n",
    "plt.plot(data['wage'], data['commute'], 'ro', alpha = 0.2)\n",
    "plt.xlabel('Wage/Income in the Last 12 Months')\n",
    "plt.ylabel('Commute Times (in minutes)')\n",
    "plt.show()"
   ]
  },
  {
   "cell_type": "code",
   "execution_count": null,
   "metadata": {
    "collapsed": false
   },
   "outputs": [],
   "source": [
    "# different view of plotting, looking at the density of where the data converges\n",
    "xy = np.vstack([data['wage'], data['commute']])\n",
    "z = gaussian_kde(xy)(xy)\n",
    "fig, ax = plt.subplots()\n",
    "ax.scatter(data['wage'], data['commute'], c=z, s=100, edgecolor='')\n",
    "plt.show()"
   ]
  }
 ],
 "metadata": {
  "kernelspec": {
   "display_name": "Python 2",
   "language": "python",
   "name": "python2"
  },
  "language_info": {
   "codemirror_mode": {
    "name": "ipython",
    "version": 2
   },
   "file_extension": ".py",
   "mimetype": "text/x-python",
   "name": "python",
   "nbconvert_exporter": "python",
   "pygments_lexer": "ipython2",
   "version": "2.7.9"
  }
 },
 "nbformat": 4,
 "nbformat_minor": 0
}
