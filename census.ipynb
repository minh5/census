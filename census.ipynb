{
 "cells": [
  {
   "cell_type": "code",
   "execution_count": 43,
   "metadata": {
    "collapsed": true
   },
   "outputs": [],
   "source": [
    "import pandas as pd\n",
    "import numpy as np\n",
    "from sklearn.feature_extraction import DictVectorizer as DV"
   ]
  },
  {
   "cell_type": "code",
   "execution_count": 23,
   "metadata": {
    "collapsed": false
   },
   "outputs": [
    {
     "data": {
      "text/plain": [
       "1519123"
      ]
     },
     "execution_count": 23,
     "metadata": {},
     "output_type": "execute_result"
    }
   ],
   "source": [
    "#loading up data frame and subsetting it to Texas and variable of interests\n",
    "dfb = pd.read_csv('/home/minh/portfolio/census/pums/ss13pusb.csv')\n",
    "data = dfb.loc[dfb['ST'] == 48, ['ST','WGP','RAC1P', \"JWMNP\"]]\n",
    "data = data.rename(columns = {\n",
    "    'ST': 'state',\n",
    "    'WGP': 'wage',\n",
    "    'RAC1P': 'race',\n",
    "    'JWMNP': 'CommuteT'\n",
    "})"
   ]
  },
  {
   "cell_type": "code",
   "execution_count": 66,
   "metadata": {
    "collapsed": false
   },
   "outputs": [
    {
     "data": {
      "text/plain": [
       "1    196657\n",
       "2     25654\n",
       "8     13361\n",
       "6     10043\n",
       "9      6362\n",
       "3       933\n",
       "5       412\n",
       "7       163\n",
       "4        14\n",
       "dtype: int64"
      ]
     },
     "execution_count": 66,
     "metadata": {},
     "output_type": "execute_result"
    }
   ],
   "source": [
    "#renaming the numeric code into strings\n",
    "data['race'] = data['race'].astype('category')\n",
    "data['race'].value_counts()\n",
    "data['RAC1P'].cat.rename_categories(['White','Black','American or Alaskan Native',\n",
    "                                   'American or Alaskan Native', 'American or Alaskan Native',\n",
    "                                   'Asian/Pacific Islander', 'Asian/Pacific Islander',\n",
    "                                   'Other Race', 'Two or More Races'])"
   ]
  }
 ],
 "metadata": {
  "kernelspec": {
   "display_name": "Python 2",
   "language": "python",
   "name": "python2"
  },
  "language_info": {
   "codemirror_mode": {
    "name": "ipython",
    "version": 2
   },
   "file_extension": ".py",
   "mimetype": "text/x-python",
   "name": "python",
   "nbconvert_exporter": "python",
   "pygments_lexer": "ipython2",
   "version": "2.7.9"
  }
 },
 "nbformat": 4,
 "nbformat_minor": 0
}
